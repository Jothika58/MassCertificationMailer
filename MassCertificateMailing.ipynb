{
 "cells": [
  {
   "cell_type": "code",
   "execution_count": 2,
   "id": "9f4c2762",
   "metadata": {
    "scrolled": true
   },
   "outputs": [],
   "source": [
    "import numpy as np\n",
    "import pandas as pd \n",
    "from PIL import Image, ImageDraw, ImageFont\n",
    "import smtplib\n",
    "from email.mime.multipart import MIMEMultipart\n",
    "from email.mime.text import MIMEText\n",
    "from email.mime.base import MIMEBase\n",
    "from email import encoders\n",
    "data=pd.read_csv(\"jo.csv\")"
   ]
  },
  {
   "cell_type": "code",
   "execution_count": 4,
   "id": "b01b1b24",
   "metadata": {},
   "outputs": [
    {
     "name": "stdout",
     "output_type": "stream",
     "text": [
      "sent toJothika S\n",
      "sent toAbishek B S\n",
      "sent toDhiya D\n",
      "sent toLokesh V\n"
     ]
    }
   ],
   "source": [
    "name_list = data[\"name\"].tolist() \n",
    "mail_list = data[\"mail\"].tolist() \n",
    "\n",
    "for name, mail in zip(name_list, mail_list):\n",
    "    im = Image.open('certificate.jpeg') #over here put what is the name of your certificate template like karan.png\n",
    "    #make sure the csv file and certificate is in same folder\n",
    "    \n",
    "    d = ImageDraw.Draw(im)\n",
    "    location = (100,250)\n",
    "    text_color = (0, 137, 209)\n",
    "    font = ImageFont.truetype(\"arial.ttf\", 80)\n",
    "    d.text(location, name, fill = text_color, font = font)\n",
    "    im.save( name + \".jpeg\")\n",
    "\n",
    "\n",
    "    fromaddr = \"yourmailid@gmail.com\"  #put you mail here.\n",
    "    password=\"yourpassword\" #put your password here\n",
    "    toaddr = mail   #it waill take name from csv file\n",
    "\n",
    "    # instance of MIMEMultipart\n",
    "    msg = MIMEMultipart()\n",
    "\n",
    "    # storing the senders email address\n",
    "    msg['From'] = fromaddr\n",
    "\n",
    "    # storing the receivers email address\n",
    "    msg['To'] = toaddr\n",
    "\n",
    "    # storing the subject\n",
    "    msg['Subject'] = \"The certificates for DSA session!\"\n",
    "\n",
    "    # string to store the body of the mail\n",
    "    body = '''Hello, '''+name+'''\n",
    "    Here is your certificate attach with this mail!\n",
    "     Hope we expect you in the upcoming session : )'''\n",
    "\n",
    "    # attach the body with the msg instance\n",
    "    msg.attach(MIMEText(body, 'plain'))\n",
    "    \n",
    "    # open the file to be sent\n",
    "    filename = name+\".jpeg\"\n",
    "    attachment = open(filename, \"rb\")\n",
    "\n",
    "    # instance of MIMEBase and named as p\n",
    "    p = MIMEBase('application', 'octet-stream')\n",
    "\n",
    "    # To change the payload into encoded form\n",
    "    p.set_payload((attachment).read())\n",
    "\n",
    "    # encode into base64\n",
    "    encoders.encode_base64(p)\n",
    "\n",
    "    p.add_header('Content-Disposition', \"attachment; filename= %s\" % filename)\n",
    "\n",
    "    # attach the instance 'p' to instance 'msg'\n",
    "    msg.attach(p)\n",
    "\n",
    "    # creates SMTP session\n",
    "    s = smtplib.SMTP('smtp.gmail.com', 587)\n",
    "\n",
    "    # start TLS for security\n",
    "    s.starttls()\n",
    "\n",
    "    # Authentication\n",
    "    s.login(fromaddr, password)  \n",
    "\n",
    "    # Converts the Multipart msg into a string\n",
    "    text = msg.as_string()\n",
    "\n",
    "    # sending the mail\n",
    "    s.sendmail(fromaddr, toaddr, text)\n",
    "    print(\"sent to\" +name)"
   ]
  },
  {
   "cell_type": "code",
   "execution_count": null,
   "id": "dd62b6ff",
   "metadata": {},
   "outputs": [],
   "source": []
  }
 ],
 "metadata": {
  "kernelspec": {
   "display_name": "Python 3",
   "language": "python",
   "name": "python3"
  },
  "language_info": {
   "codemirror_mode": {
    "name": "ipython",
    "version": 3
   },
   "file_extension": ".py",
   "mimetype": "text/x-python",
   "name": "python",
   "nbconvert_exporter": "python",
   "pygments_lexer": "ipython3",
   "version": "3.9.5"
  }
 },
 "nbformat": 4,
 "nbformat_minor": 5
}
